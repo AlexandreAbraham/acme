{
 "cells": [
  {
   "cell_type": "markdown",
   "id": "vanilla-resistance",
   "metadata": {},
   "source": [
    "# Adaboost tutorial\n",
    "\n",
    "Let us create a plugin containing Adaboost."
   ]
  },
  {
   "cell_type": "code",
   "execution_count": 1,
   "id": "useful-watch",
   "metadata": {
    "scrolled": false
   },
   "outputs": [
    {
     "name": "stdout",
     "output_type": "stream",
     "text": [
      "[__init__] Doc argument missing in signature: base_estimator_\n",
      "[__init__] Doc argument missing in signature: estimators_\n",
      "[__init__] Doc argument missing in signature: classes_\n",
      "[__init__] Doc argument missing in signature: n_classes_\n",
      "[__init__] Doc argument missing in signature: estimator_weights_\n",
      "[__init__] Doc argument missing in signature: estimator_errors_\n",
      "[__init__] Doc argument missing in signature: feature_importances_\n",
      "[set_params] Doc argument missing in signature: **params\n",
      "[staged_predict_proba] Doc argument missing in signature: Yields\n",
      "[staged_predict_proba] Doc argument missing in signature: -------\n",
      "[staged_predict_proba] Doc argument missing in signature: p\n",
      "AdaBoostClassifier sklearn.ensemble\n",
      "WARNING: Could not resolve import name. Please specify it manually in plugin generator\n",
      "Identified package name: sklearn. If invalid, please specify the real package name to retrieve the requirements.\n",
      "No requirement was retrieved\n"
     ]
    },
    {
     "data": {
      "application/vnd.jupyter.widget-view+json": {
       "model_id": "4cb13b3692f946759373465695671056",
       "version_major": 2,
       "version_minor": 0
      },
      "text/plain": [
       "Checkbox(value=False, description='Custom fit function', indent=False, layout=Layout(width='100%'))"
      ]
     },
     "metadata": {},
     "output_type": "display_data"
    },
    {
     "data": {
      "application/vnd.jupyter.widget-view+json": {
       "model_id": "7863903d3f0f47d2a50f4181a3701b35",
       "version_major": 2,
       "version_minor": 0
      },
      "text/plain": [
       "VBox(children=(Dropdown(description='Function', layout=Layout(width='auto'), options=('__init__', 'decision_fu…"
      ]
     },
     "metadata": {},
     "output_type": "display_data"
    },
    {
     "data": {
      "application/vnd.jupyter.widget-view+json": {
       "model_id": "744103d63c1b42c68eba08773619334d",
       "version_major": 2,
       "version_minor": 0
      },
      "text/plain": [
       "Checkbox(value=False, description='Custom predict function', indent=False, layout=Layout(width='100%'))"
      ]
     },
     "metadata": {},
     "output_type": "display_data"
    },
    {
     "data": {
      "application/vnd.jupyter.widget-view+json": {
       "model_id": "01b4985124844cf49652254c74fec6a5",
       "version_major": 2,
       "version_minor": 0
      },
      "text/plain": [
       "VBox(children=(Dropdown(description='Function', layout=Layout(width='auto'), options=('__init__', 'decision_fu…"
      ]
     },
     "metadata": {},
     "output_type": "display_data"
    },
    {
     "data": {
      "application/vnd.jupyter.widget-view+json": {
       "model_id": "77fa2291d70140ba9b7c4fc09a7e4182",
       "version_major": 2,
       "version_minor": 0
      },
      "text/plain": [
       "Checkbox(value=True, description='base_estimator', indent=False, layout=Layout(width='100%'))"
      ]
     },
     "metadata": {},
     "output_type": "display_data"
    },
    {
     "data": {
      "application/vnd.jupyter.widget-view+json": {
       "model_id": "c37b70c481b04e9c875fb16e8b8712d2",
       "version_major": 2,
       "version_minor": 0
      },
      "text/plain": [
       "VBox(children=(Text(value='Base Estimator', description='Screen name', layout=Layout(width='auto'), style=Desc…"
      ]
     },
     "metadata": {},
     "output_type": "display_data"
    },
    {
     "data": {
      "application/vnd.jupyter.widget-view+json": {
       "model_id": "f3b573edd7dc42608dd760b246b9f563",
       "version_major": 2,
       "version_minor": 0
      },
      "text/plain": [
       "Checkbox(value=True, description='n_estimators', indent=False, layout=Layout(width='100%'))"
      ]
     },
     "metadata": {},
     "output_type": "display_data"
    },
    {
     "data": {
      "application/vnd.jupyter.widget-view+json": {
       "model_id": "9014da9560364366a6f5e08612556f33",
       "version_major": 2,
       "version_minor": 0
      },
      "text/plain": [
       "VBox(children=(Text(value='N Estimators', description='Screen name', layout=Layout(width='auto'), style=Descri…"
      ]
     },
     "metadata": {},
     "output_type": "display_data"
    },
    {
     "data": {
      "application/vnd.jupyter.widget-view+json": {
       "model_id": "f0588bb2bb234fab867cd879437cf533",
       "version_major": 2,
       "version_minor": 0
      },
      "text/plain": [
       "Checkbox(value=True, description='learning_rate', indent=False, layout=Layout(width='100%'))"
      ]
     },
     "metadata": {},
     "output_type": "display_data"
    },
    {
     "data": {
      "application/vnd.jupyter.widget-view+json": {
       "model_id": "e4ab38a17b464e5c9cabdb57013e8178",
       "version_major": 2,
       "version_minor": 0
      },
      "text/plain": [
       "VBox(children=(Text(value='Learning Rate', description='Screen name', layout=Layout(width='auto'), style=Descr…"
      ]
     },
     "metadata": {},
     "output_type": "display_data"
    },
    {
     "data": {
      "application/vnd.jupyter.widget-view+json": {
       "model_id": "337d9017fdad4ef1a395168e5ce163db",
       "version_major": 2,
       "version_minor": 0
      },
      "text/plain": [
       "Checkbox(value=True, description='algorithm', indent=False, layout=Layout(width='100%'))"
      ]
     },
     "metadata": {},
     "output_type": "display_data"
    },
    {
     "data": {
      "application/vnd.jupyter.widget-view+json": {
       "model_id": "360e7b6c34984074b0cc8d442b2c3655",
       "version_major": 2,
       "version_minor": 0
      },
      "text/plain": [
       "VBox(children=(Text(value='Algorithm', description='Screen name', layout=Layout(width='auto'), style=Descripti…"
      ]
     },
     "metadata": {},
     "output_type": "display_data"
    },
    {
     "data": {
      "application/vnd.jupyter.widget-view+json": {
       "model_id": "7784dc580058477f981e9d06b969a333",
       "version_major": 2,
       "version_minor": 0
      },
      "text/plain": [
       "Checkbox(value=True, description='random_state', indent=False, layout=Layout(width='100%'))"
      ]
     },
     "metadata": {},
     "output_type": "display_data"
    },
    {
     "data": {
      "application/vnd.jupyter.widget-view+json": {
       "model_id": "f28a2b641c5a4cbd8b6a3968981ce8a3",
       "version_major": 2,
       "version_minor": 0
      },
      "text/plain": [
       "VBox(children=(Text(value='Random State', description='Screen name', layout=Layout(width='auto'), style=Descri…"
      ]
     },
     "metadata": {},
     "output_type": "display_data"
    }
   ],
   "source": [
    "from acme.parser import parse_class\n",
    "from acme.module_requirements import get_requirements\n",
    "from acme.refiner import ModelRefiner\n",
    "from acme.plugin_generator import PluginGenerator\n",
    "from sklearn.ensemble import AdaBoostClassifier\n",
    "\n",
    "\n",
    "import_name = \"sklearn.ensemble\"\n",
    "prediction_type = \"BINARY_CLASSIFICATION\"\n",
    "module = AdaBoostClassifier\n",
    "\n",
    "parsed_docstring = parse_class(module)\n",
    "requirements = get_requirements(module)\n",
    "refined_function = ModelRefiner(parsed_docstring)\n",
    "refiner = refined_function.get_interactive_refiner()\n",
    "refiner.display()"
   ]
  },
  {
   "cell_type": "code",
   "execution_count": 2,
   "id": "humanitarian-holder",
   "metadata": {},
   "outputs": [
    {
     "name": "stdout",
     "output_type": "stream",
     "text": [
      "[base_estimator] Specs not a set or a list\n",
      "[n_estimators] Specs not a set or a list\n",
      "[learning_rate] Specs not a set or a list\n",
      "[random_state] Specs not a set or a list\n"
     ]
    }
   ],
   "source": [
    "refined_function.update(refiner)"
   ]
  },
  {
   "cell_type": "code",
   "execution_count": 3,
   "id": "excess-nepal",
   "metadata": {},
   "outputs": [
    {
     "ename": "AttributeError",
     "evalue": "'ModelRefiner' object has no attribute 'import_name'",
     "output_type": "error",
     "traceback": [
      "\u001b[0;31m---------------------------------------------------------------------------\u001b[0m",
      "\u001b[0;31mAttributeError\u001b[0m                            Traceback (most recent call last)",
      "\u001b[0;32m<ipython-input-3-4edbad9a3f3f>\u001b[0m in \u001b[0;36m<module>\u001b[0;34m\u001b[0m\n\u001b[0;32m----> 1\u001b[0;31m \u001b[0mplugin_generator\u001b[0m \u001b[0;34m=\u001b[0m \u001b[0mPluginGenerator\u001b[0m\u001b[0;34m(\u001b[0m\u001b[0mprediction_type\u001b[0m\u001b[0;34m,\u001b[0m \u001b[0mrefined_function\u001b[0m\u001b[0;34m,\u001b[0m \u001b[0mgenerate_plugin_zip\u001b[0m \u001b[0;34m=\u001b[0m \u001b[0;32mTrue\u001b[0m\u001b[0;34m,\u001b[0m \u001b[0mrequirements\u001b[0m \u001b[0;34m=\u001b[0m \u001b[0mrequirements\u001b[0m\u001b[0;34m)\u001b[0m\u001b[0;34m\u001b[0m\u001b[0;34m\u001b[0m\u001b[0m\n\u001b[0m\u001b[1;32m      2\u001b[0m \u001b[0mplugin_generator\u001b[0m\u001b[0;34m.\u001b[0m\u001b[0mwrite\u001b[0m\u001b[0;34m(\u001b[0m\u001b[0;34m)\u001b[0m\u001b[0;34m\u001b[0m\u001b[0;34m\u001b[0m\u001b[0m\n",
      "\u001b[0;32m~/acme/acme/plugin_generator.py\u001b[0m in \u001b[0;36m__init__\u001b[0;34m(self, prediction_type, refined_function, doc_url, generate_plugin_zip, requirements, import_name)\u001b[0m\n\u001b[1;32m     14\u001b[0m             \u001b[0mrequirements\u001b[0m \u001b[0;34m=\u001b[0m \u001b[0;34m[\u001b[0m\u001b[0;34m]\u001b[0m\u001b[0;34m\u001b[0m\u001b[0;34m\u001b[0m\u001b[0m\n\u001b[1;32m     15\u001b[0m         \u001b[0mself\u001b[0m\u001b[0;34m.\u001b[0m\u001b[0mrefined_module\u001b[0m \u001b[0;34m=\u001b[0m \u001b[0mrefined_function\u001b[0m\u001b[0;34m\u001b[0m\u001b[0;34m\u001b[0m\u001b[0m\n\u001b[0;32m---> 16\u001b[0;31m         \u001b[0mself\u001b[0m\u001b[0;34m.\u001b[0m\u001b[0mimport_name\u001b[0m \u001b[0;34m=\u001b[0m \u001b[0mimport_name\u001b[0m \u001b[0;32mor\u001b[0m \u001b[0mrefined_function\u001b[0m\u001b[0;34m.\u001b[0m\u001b[0mimport_name\u001b[0m\u001b[0;34m\u001b[0m\u001b[0;34m\u001b[0m\u001b[0m\n\u001b[0m\u001b[1;32m     17\u001b[0m         \u001b[0mself\u001b[0m\u001b[0;34m.\u001b[0m\u001b[0mprediction_type\u001b[0m \u001b[0;34m=\u001b[0m \u001b[0mprediction_type\u001b[0m\u001b[0;34m\u001b[0m\u001b[0;34m\u001b[0m\u001b[0m\n\u001b[1;32m     18\u001b[0m         \u001b[0mself\u001b[0m\u001b[0;34m.\u001b[0m\u001b[0mdoc_url\u001b[0m \u001b[0;34m=\u001b[0m \u001b[0mdoc_url\u001b[0m\u001b[0;34m\u001b[0m\u001b[0;34m\u001b[0m\u001b[0m\n",
      "\u001b[0;31mAttributeError\u001b[0m: 'ModelRefiner' object has no attribute 'import_name'"
     ]
    }
   ],
   "source": [
    "plugin_generator = PluginGenerator(prediction_type, refined_function, generate_plugin_zip = True, requirements = requirements)\n",
    "plugin_generator.write()\n"
   ]
  },
  {
   "cell_type": "code",
   "execution_count": 5,
   "id": "unnecessary-niagara",
   "metadata": {},
   "outputs": [
    {
     "name": "stderr",
     "output_type": "stream",
     "text": [
      "ERROR:root:No traceback has been produced, nothing to debug.\n"
     ]
    }
   ],
   "source": [
    "%debug"
   ]
  }
 ],
 "metadata": {
  "kernelspec": {
   "display_name": "Python 3",
   "language": "python",
   "name": "python3"
  },
  "language_info": {
   "codemirror_mode": {
    "name": "ipython",
    "version": 3
   },
   "file_extension": ".py",
   "mimetype": "text/x-python",
   "name": "python",
   "nbconvert_exporter": "python",
   "pygments_lexer": "ipython3",
   "version": "3.6.12"
  }
 },
 "nbformat": 4,
 "nbformat_minor": 5
}
