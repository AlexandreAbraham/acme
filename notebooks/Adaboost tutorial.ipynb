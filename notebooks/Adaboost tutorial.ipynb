{
 "cells": [
  {
   "cell_type": "markdown",
   "id": "vanilla-resistance",
   "metadata": {},
   "source": [
    "# Adaboost tutorial\n",
    "\n",
    "Let us create a plugin containing Adaboost."
   ]
  },
  {
   "cell_type": "code",
   "execution_count": 1,
   "id": "useful-watch",
   "metadata": {
    "scrolled": false
   },
   "outputs": [
    {
     "name": "stderr",
     "output_type": "stream",
     "text": [
      "/home/aabraham/py36/lib64/python3.6/site-packages/numpy_ml/rl_models/rl_utils.py:25: DependencyWarning: Agents in `numpy_ml.rl_models` use the OpenAI gym for training. To install the gym environments, run `pip install gym`. For more information, see https://github.com/openai/gym.\n",
      "  warnings.warn(fstr, DependencyWarning)\n"
     ]
    },
    {
     "name": "stdout",
     "output_type": "stream",
     "text": [
      "Identified package name: numpy_ml. If invalid, please specify the real package name to retrieve the requirements.\n",
      "No requirement was retrieved\n"
     ]
    },
    {
     "data": {
      "application/vnd.jupyter.widget-view+json": {
       "model_id": "9dafba671f084f72a1d6e8e23ca390ae",
       "version_major": 2,
       "version_minor": 0
      },
      "text/plain": [
       "Checkbox(value=False, description='Custom fit function', indent=False, layout=Layout(width='100%'))"
      ]
     },
     "metadata": {},
     "output_type": "display_data"
    },
    {
     "data": {
      "application/vnd.jupyter.widget-view+json": {
       "model_id": "cd9b79322b074cd287655f7221e14a8f",
       "version_major": 2,
       "version_minor": 0
      },
      "text/plain": [
       "VBox(children=(Dropdown(description='Function', layout=Layout(width='auto'), options=('fit', 'predict'), style…"
      ]
     },
     "metadata": {},
     "output_type": "display_data"
    },
    {
     "data": {
      "application/vnd.jupyter.widget-view+json": {
       "model_id": "9a853a7578114c4d86bef003ff4eb0c0",
       "version_major": 2,
       "version_minor": 0
      },
      "text/plain": [
       "Checkbox(value=False, description='Custom predict function', indent=False, layout=Layout(width='100%'))"
      ]
     },
     "metadata": {},
     "output_type": "display_data"
    },
    {
     "data": {
      "application/vnd.jupyter.widget-view+json": {
       "model_id": "c870c91df24148c38e50009e41eb1e64",
       "version_major": 2,
       "version_minor": 0
      },
      "text/plain": [
       "VBox(children=(Dropdown(description='Function', layout=Layout(width='auto'), options=('fit', 'predict'), style…"
      ]
     },
     "metadata": {},
     "output_type": "display_data"
    }
   ],
   "source": [
    "from acme.parser import parse_class\n",
    "from acme.module_requirements import get_requirements\n",
    "from acme.refiner import ModelRefiner\n",
    "from acme.plugin_generator import PluginGenerator\n",
    "from sklearn.ensemble import AdaBoostClassifier\n",
    "from acme.constants import DSSPredType\n",
    "from numpy_ml.linear_models.lm import BayesianLinearRegressionUnknownVariance\n",
    "\n",
    "prediction_type = DSSPredType.REGRESSION\n",
    "module = BayesianLinearRegressionUnknownVariance\n",
    "\n",
    "parsed_docstring = parse_class(module)\n",
    "requirements = get_requirements(module)\n",
    "refined_function = ModelRefiner(parsed_docstring)\n",
    "refiner = refined_function.get_interactive_refiner()\n",
    "refiner.display()"
   ]
  },
  {
   "cell_type": "code",
   "execution_count": 2,
   "id": "humanitarian-holder",
   "metadata": {},
   "outputs": [],
   "source": [
    "refined_function.update(refiner)"
   ]
  },
  {
   "cell_type": "code",
   "execution_count": 3,
   "id": "excess-nepal",
   "metadata": {},
   "outputs": [],
   "source": [
    "plugin_generator = PluginGenerator(prediction_type, refined_function, generate_plugin_zip = True, requirements = requirements)\n",
    "plugin_generator.write()\n"
   ]
  },
  {
   "cell_type": "code",
   "execution_count": 14,
   "id": "unnecessary-niagara",
   "metadata": {},
   "outputs": [],
   "source": [
    "from docstring_parser import parse\n",
    "from docstring_parser import styles"
   ]
  },
  {
   "cell_type": "code",
   "execution_count": 8,
   "id": "cosmetic-persian",
   "metadata": {},
   "outputs": [],
   "source": [
    "a = parse(BayesianLinearRegressionUnknownVariance.__doc__)"
   ]
  },
  {
   "cell_type": "code",
   "execution_count": 30,
   "id": "herbal-hunter",
   "metadata": {},
   "outputs": [],
   "source": [
    "a = parse(BayesianLinearRegressionUnknownVariance.__init__.__doc__)"
   ]
  },
  {
   "cell_type": "code",
   "execution_count": 32,
   "id": "celtic-combine",
   "metadata": {},
   "outputs": [
    {
     "data": {
      "text/plain": [
       "[<docstring_parser.common.DocstringParam at 0x7f9a88d5e8d0>,\n",
       " <docstring_parser.common.DocstringParam at 0x7f9a88d5e518>,\n",
       " <docstring_parser.common.DocstringParam at 0x7f9a88d5e6d8>,\n",
       " <docstring_parser.common.DocstringParam at 0x7f9a88f892e8>,\n",
       " <docstring_parser.common.DocstringParam at 0x7f9a88f89748>]"
      ]
     },
     "execution_count": 32,
     "metadata": {},
     "output_type": "execute_result"
    }
   ],
   "source": [
    "a.params"
   ]
  },
  {
   "cell_type": "code",
   "execution_count": 28,
   "id": "technological-pharmaceutical",
   "metadata": {},
   "outputs": [
    {
     "data": {
      "text/plain": [
       "'\\n        Bayesian linear regression model with unknown variance and conjugate\\n        Normal-Gamma prior on `b` and :math:`\\\\sigma^2`.\\n\\n        Notes\\n        -----\\n        Uses a conjugate Normal-Gamma prior on `b` and :math:`\\\\sigma^2`. The\\n        joint and marginal posteriors over error variance and model parameters\\n        are:\\n\\n        .. math::\\n\\n            b, \\\\sigma^2 &\\\\sim \\\\text{NG}(b_{mean}, b_{V}, \\\\alpha, \\\\beta) \\\\\\\\\\n            \\\\sigma^2 &\\\\sim \\\\text{InverseGamma}(\\\\alpha, \\\\beta) \\\\\\\\\\n            b &\\\\sim \\\\mathcal{N}(b_{mean}, \\\\sigma^2 \\\\cdot b_V)\\n\\n        Parameters\\n        ----------\\n        alpha : float\\n            The shape parameter for the Inverse-Gamma prior on\\n            :math:`\\\\sigma^2`. Must be strictly greater than 0. Default is 1.\\n        beta : float\\n            The scale parameter for the Inverse-Gamma prior on\\n            :math:`\\\\sigma^2`. Must be strictly greater than 0. Default is 1.\\n        b_mean : :py:class:`ndarray <numpy.ndarray>` of shape `(M,)` or float\\n            The mean of the Gaussian prior on `b`. If a float, assume `b_mean`\\n            is ``np.ones(M) * b_mean``. Default is 0.\\n        b_V : :py:class:`ndarray <numpy.ndarray>` of shape `(N, N)` or `(N,)` or None\\n            A symmetric positive definite matrix that when multiplied\\n            element-wise by :math:`b_sigma^2` gives the covariance matrix for\\n            the Gaussian prior on `b`. If a list, assume ``b_V =\\n            diag(b_V)``. If None, assume `b_V` is the identity matrix.\\n            Default is None.\\n        fit_intercept : bool\\n            Whether to fit an intercept term in addition to the coefficients in\\n            b. If True, the estimates for b will have `M + 1` dimensions, where\\n            the first dimension corresponds to the intercept. Default is True.\\n        '"
      ]
     },
     "execution_count": 28,
     "metadata": {},
     "output_type": "execute_result"
    }
   ],
   "source": []
  },
  {
   "cell_type": "code",
   "execution_count": null,
   "id": "olympic-driving",
   "metadata": {},
   "outputs": [],
   "source": []
  }
 ],
 "metadata": {
  "kernelspec": {
   "display_name": "Python 3",
   "language": "python",
   "name": "python3"
  },
  "language_info": {
   "codemirror_mode": {
    "name": "ipython",
    "version": 3
   },
   "file_extension": ".py",
   "mimetype": "text/x-python",
   "name": "python",
   "nbconvert_exporter": "python",
   "pygments_lexer": "ipython3",
   "version": "3.6.12"
  }
 },
 "nbformat": 4,
 "nbformat_minor": 5
}
