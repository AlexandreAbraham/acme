{
 "cells": [
  {
   "cell_type": "markdown",
   "id": "vanilla-resistance",
   "metadata": {},
   "source": [
    "# Adaboost tutorial\n",
    "\n",
    "Let us create a plugin containing Adaboost."
   ]
  },
  {
   "cell_type": "code",
   "execution_count": null,
   "id": "useful-watch",
   "metadata": {
    "scrolled": false
   },
   "outputs": [],
   "source": [
    "from acme.parser import parse_class\n",
    "from acme.module_requirements import get_requirements\n",
    "from acme.refiner import ModelRefiner\n",
    "from acme.plugin_generator import PluginGenerator\n",
    "from sklearn.ensemble import AdaBoostClassifier, AdaBoostRegressor"
   ]
  },
  {
   "cell_type": "markdown",
   "id": "limiting-entry",
   "metadata": {},
   "source": [
    "# Initialization\n",
    "\n",
    "We initialize the plugin here. A folder and all necessary base files will be created so that we can further populate it with custom models."
   ]
  },
  {
   "cell_type": "code",
   "execution_count": null,
   "id": "joined-lithuania",
   "metadata": {
    "scrolled": false
   },
   "outputs": [],
   "source": [
    "module = AdaBoostClassifier\n",
    "\n",
    "requirements = get_requirements(AdaBoostClassifier, package_name='scikit-learn')\n",
    "plugin_generator = PluginGenerator('AdaBoost', 'AdaBoost is a meta-estimator that begins by fitting a model on the original dataset and then fits additional copies of the model on the same dataset but where the weights of incorrectly classified instances are adjusted such that subsequent models focus more on difficult cases.', \n",
    "                                   requirements=requirements)\n",
    "plugin_generator.write_base()"
   ]
  },
  {
   "cell_type": "markdown",
   "id": "likely-background",
   "metadata": {},
   "source": [
    "We create our first custom model for AdaBoostClassifier."
   ]
  },
  {
   "cell_type": "code",
   "execution_count": null,
   "id": "blank-third",
   "metadata": {},
   "outputs": [],
   "source": [
    "module = AdaBoostClassifier\n",
    "\n",
    "parsed_docstring = parse_class(module)\n",
    "refined_function = ModelRefiner(parsed_docstring)\n",
    "refiner = refined_function.get_interactive_refiner()\n",
    "refiner.display()"
   ]
  },
  {
   "cell_type": "markdown",
   "id": "regulation-ordinance",
   "metadata": {},
   "source": [
    "Once the parameters have been customize, we can write the modules in the package."
   ]
  },
  {
   "cell_type": "code",
   "execution_count": null,
   "id": "willing-thursday",
   "metadata": {},
   "outputs": [],
   "source": [
    "refined_function.update(refiner)\n",
    "plugin_generator.write_refined_function(refined_function)"
   ]
  },
  {
   "cell_type": "markdown",
   "id": "caring-gates",
   "metadata": {},
   "source": [
    "We now do the same for the regressor! Both can be added to the same plugin."
   ]
  },
  {
   "cell_type": "code",
   "execution_count": null,
   "id": "republican-superintendent",
   "metadata": {},
   "outputs": [],
   "source": [
    "module = AdaBoostRegressor\n",
    "\n",
    "parsed_docstring = parse_class(module)\n",
    "refined_function = ModelRefiner(parsed_docstring)\n",
    "refiner = refined_function.get_interactive_refiner()\n",
    "refiner.display()"
   ]
  },
  {
   "cell_type": "code",
   "execution_count": null,
   "id": "excess-nepal",
   "metadata": {},
   "outputs": [],
   "source": [
    "refined_function.update(refiner)\n",
    "plugin_generator.write_refined_function(refined_function)"
   ]
  },
  {
   "cell_type": "markdown",
   "id": "4f8106a5",
   "metadata": {},
   "source": [
    "Go check out the newly created plugin \"dss-plugin-AdaBoost\" in the notebooks folder. Once you are happy with it, it is time to zip it by running the following line"
   ]
  },
  {
   "cell_type": "code",
   "execution_count": null,
   "id": "5ec25b42",
   "metadata": {},
   "outputs": [],
   "source": [
    "plugin_generator.generate_zip()"
   ]
  },
  {
   "cell_type": "markdown",
   "id": "4ca435c8",
   "metadata": {},
   "source": [
    "Import the zip to your DSS instance"
   ]
  }
 ],
 "metadata": {
  "kernelspec": {
   "display_name": "Python 3",
   "language": "python",
   "name": "python3"
  },
  "language_info": {
   "codemirror_mode": {
    "name": "ipython",
    "version": 3
   },
   "file_extension": ".py",
   "mimetype": "text/x-python",
   "name": "python",
   "nbconvert_exporter": "python",
   "pygments_lexer": "ipython3",
   "version": "3.6.10"
  }
 },
 "nbformat": 4,
 "nbformat_minor": 5
}
