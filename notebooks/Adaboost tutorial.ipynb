{
 "cells": [
  {
   "cell_type": "markdown",
   "id": "vanilla-resistance",
   "metadata": {},
   "source": [
    "# Adaboost tutorial\n",
    "\n",
    "Let us create a plugin containing Adaboost."
   ]
  },
  {
   "cell_type": "code",
   "execution_count": 1,
   "id": "useful-watch",
   "metadata": {
    "scrolled": false
   },
   "outputs": [],
   "source": [
    "from acme.parser import parse_class\n",
    "from acme.module_requirements import get_requirements\n",
    "from acme.refiner import ModelRefiner\n",
    "from acme.plugin_generator import PluginGenerator\n",
    "from sklearn.ensemble import AdaBoostClassifier, AdaBoostRegressor"
   ]
  },
  {
   "cell_type": "markdown",
   "id": "limiting-entry",
   "metadata": {},
   "source": [
    "# Initialization\n",
    "\n",
    "We initialize the plugin here. A folder and all necessary base files will be created so that we can further populate it with custom models."
   ]
  },
  {
   "cell_type": "code",
   "execution_count": 2,
   "id": "joined-lithuania",
   "metadata": {
    "scrolled": false
   },
   "outputs": [
    {
     "name": "stdout",
     "output_type": "stream",
     "text": [
      "Packages retrieved: ['scikit-learn==0.24.0']\n"
     ]
    }
   ],
   "source": [
    "requirements = get_requirements(AdaBoostClassifier, package_name='scikit-learn')\n",
    "plugin_generator = PluginGenerator('AdaBoost', 'AdaBoost is a meta-estimator that begins by fitting a model on the original dataset and then fits additional copies of the model on the same dataset but where the weights of incorrectly classified instances are adjusted such that subsequent models focus more on difficult cases.', \n",
    "                                   requirements=requirements)\n",
    "plugin_generator.write_base()"
   ]
  },
  {
   "cell_type": "markdown",
   "id": "likely-background",
   "metadata": {},
   "source": [
    "We create our first custom model for AdaBoostClassifier."
   ]
  },
  {
   "cell_type": "code",
   "execution_count": 3,
   "id": "blank-third",
   "metadata": {},
   "outputs": [
    {
     "data": {
      "application/vnd.jupyter.widget-view+json": {
       "model_id": "796ba75541204722b01baf0e1b0a547c",
       "version_major": 2,
       "version_minor": 0
      },
      "text/plain": [
       "Text(value='from sklearn.ensemble import AdaBoostClassifier', description='Import statement', layout=Layout(wi…"
      ]
     },
     "metadata": {},
     "output_type": "display_data"
    },
    {
     "data": {
      "application/vnd.jupyter.widget-view+json": {
       "model_id": "f16eacb932d747709495063db35d76b7",
       "version_major": 2,
       "version_minor": 0
      },
      "text/plain": [
       "Dropdown(description='Prediction type', index=1, layout=Layout(width='auto'), options=(('Regression', <DSSPred…"
      ]
     },
     "metadata": {},
     "output_type": "display_data"
    },
    {
     "data": {
      "application/vnd.jupyter.widget-view+json": {
       "model_id": "c900597c5af74c409f08b3c710dffb16",
       "version_major": 2,
       "version_minor": 0
      },
      "text/plain": [
       "Checkbox(value=False, description='Custom fit function', indent=False, layout=Layout(width='100%'))"
      ]
     },
     "metadata": {},
     "output_type": "display_data"
    },
    {
     "data": {
      "application/vnd.jupyter.widget-view+json": {
       "model_id": "eb24e90182a34fbe8acf3bb60481beee",
       "version_major": 2,
       "version_minor": 0
      },
      "text/plain": [
       "VBox(children=(Dropdown(description='Function', layout=Layout(width='auto'), options=('__init__', 'decision_fu…"
      ]
     },
     "metadata": {},
     "output_type": "display_data"
    },
    {
     "data": {
      "application/vnd.jupyter.widget-view+json": {
       "model_id": "088d21a76f4043d580147f5cb8df6b64",
       "version_major": 2,
       "version_minor": 0
      },
      "text/plain": [
       "Checkbox(value=False, description='Custom predict function', indent=False, layout=Layout(width='100%'))"
      ]
     },
     "metadata": {},
     "output_type": "display_data"
    },
    {
     "data": {
      "application/vnd.jupyter.widget-view+json": {
       "model_id": "f5dd845249224efab42d36a689063824",
       "version_major": 2,
       "version_minor": 0
      },
      "text/plain": [
       "VBox(children=(Dropdown(description='Function', layout=Layout(width='auto'), options=('__init__', 'decision_fu…"
      ]
     },
     "metadata": {},
     "output_type": "display_data"
    },
    {
     "data": {
      "application/vnd.jupyter.widget-view+json": {
       "model_id": "c0a0c06975aa422cbdec12d5fa5cad11",
       "version_major": 2,
       "version_minor": 0
      },
      "text/plain": [
       "Checkbox(value=True, description='base_estimator', indent=False, layout=Layout(width='100%'))"
      ]
     },
     "metadata": {},
     "output_type": "display_data"
    },
    {
     "data": {
      "application/vnd.jupyter.widget-view+json": {
       "model_id": "ada585aa43394b63b16a8ab132ecf83f",
       "version_major": 2,
       "version_minor": 0
      },
      "text/plain": [
       "VBox(children=(Text(value='Base Estimator', description='Screen name', layout=Layout(width='auto'), style=Desc…"
      ]
     },
     "metadata": {},
     "output_type": "display_data"
    },
    {
     "data": {
      "application/vnd.jupyter.widget-view+json": {
       "model_id": "3916460eadf04d3b9ca92482c3852b7b",
       "version_major": 2,
       "version_minor": 0
      },
      "text/plain": [
       "Checkbox(value=True, description='n_estimators', indent=False, layout=Layout(width='100%'))"
      ]
     },
     "metadata": {},
     "output_type": "display_data"
    },
    {
     "data": {
      "application/vnd.jupyter.widget-view+json": {
       "model_id": "7abc22bec06c4122a7ad2d01db31780b",
       "version_major": 2,
       "version_minor": 0
      },
      "text/plain": [
       "VBox(children=(Text(value='N Estimators', description='Screen name', layout=Layout(width='auto'), style=Descri…"
      ]
     },
     "metadata": {},
     "output_type": "display_data"
    },
    {
     "data": {
      "application/vnd.jupyter.widget-view+json": {
       "model_id": "72bfd912ce454dfdac12457e466d8c89",
       "version_major": 2,
       "version_minor": 0
      },
      "text/plain": [
       "Checkbox(value=True, description='learning_rate', indent=False, layout=Layout(width='100%'))"
      ]
     },
     "metadata": {},
     "output_type": "display_data"
    },
    {
     "data": {
      "application/vnd.jupyter.widget-view+json": {
       "model_id": "b19093b2d0f6419b90a5cb7fb4d1993c",
       "version_major": 2,
       "version_minor": 0
      },
      "text/plain": [
       "VBox(children=(Text(value='Learning Rate', description='Screen name', layout=Layout(width='auto'), style=Descr…"
      ]
     },
     "metadata": {},
     "output_type": "display_data"
    },
    {
     "data": {
      "application/vnd.jupyter.widget-view+json": {
       "model_id": "39862058df234dd99e1cb0e4c027e7b1",
       "version_major": 2,
       "version_minor": 0
      },
      "text/plain": [
       "Checkbox(value=True, description='algorithm', indent=False, layout=Layout(width='100%'))"
      ]
     },
     "metadata": {},
     "output_type": "display_data"
    },
    {
     "data": {
      "application/vnd.jupyter.widget-view+json": {
       "model_id": "8ed8b58fd7b44bb2b8e59d728f0f2023",
       "version_major": 2,
       "version_minor": 0
      },
      "text/plain": [
       "VBox(children=(Text(value='Algorithm', description='Screen name', layout=Layout(width='auto'), style=Descripti…"
      ]
     },
     "metadata": {},
     "output_type": "display_data"
    },
    {
     "data": {
      "application/vnd.jupyter.widget-view+json": {
       "model_id": "a4cea94baf2c4950a66dd68e0056c316",
       "version_major": 2,
       "version_minor": 0
      },
      "text/plain": [
       "Checkbox(value=True, description='random_state', indent=False, layout=Layout(width='100%'))"
      ]
     },
     "metadata": {},
     "output_type": "display_data"
    },
    {
     "data": {
      "application/vnd.jupyter.widget-view+json": {
       "model_id": "c3821c0f9784446f8bb1e1f7fa7857b9",
       "version_major": 2,
       "version_minor": 0
      },
      "text/plain": [
       "VBox(children=(Text(value='Random State', description='Screen name', layout=Layout(width='auto'), style=Descri…"
      ]
     },
     "metadata": {},
     "output_type": "display_data"
    }
   ],
   "source": [
    "module = AdaBoostClassifier\n",
    "\n",
    "parsed_docstring = parse_class(module)\n",
    "refined_function = ModelRefiner(parsed_docstring)\n",
    "refiner = refined_function.get_interactive_refiner()\n",
    "refiner.display()"
   ]
  },
  {
   "cell_type": "markdown",
   "id": "regulation-ordinance",
   "metadata": {},
   "source": [
    "Once the parameters have been customize, we can write the modules in the package."
   ]
  },
  {
   "cell_type": "code",
   "execution_count": 4,
   "id": "willing-thursday",
   "metadata": {},
   "outputs": [],
   "source": [
    "refined_function.update(refiner)\n",
    "plugin_generator.write_refined_function(refined_function)"
   ]
  },
  {
   "cell_type": "markdown",
   "id": "caring-gates",
   "metadata": {},
   "source": [
    "We now do the same for the regressor! Both can be added to the same plugin."
   ]
  },
  {
   "cell_type": "code",
   "execution_count": 5,
   "id": "republican-superintendent",
   "metadata": {},
   "outputs": [
    {
     "data": {
      "application/vnd.jupyter.widget-view+json": {
       "model_id": "86f8a5d562ff4634aeebacde0a5fc6f3",
       "version_major": 2,
       "version_minor": 0
      },
      "text/plain": [
       "Text(value='from sklearn.ensemble import AdaBoostRegressor', description='Import statement', layout=Layout(wid…"
      ]
     },
     "metadata": {},
     "output_type": "display_data"
    },
    {
     "data": {
      "application/vnd.jupyter.widget-view+json": {
       "model_id": "dcebc54700f241308c3ef65b1720356a",
       "version_major": 2,
       "version_minor": 0
      },
      "text/plain": [
       "Dropdown(description='Prediction type', layout=Layout(width='auto'), options=(('Regression', <DSSPredType.REGR…"
      ]
     },
     "metadata": {},
     "output_type": "display_data"
    },
    {
     "data": {
      "application/vnd.jupyter.widget-view+json": {
       "model_id": "94036d8f74e04d728ea4eb1dbb2c9562",
       "version_major": 2,
       "version_minor": 0
      },
      "text/plain": [
       "Checkbox(value=False, description='Custom fit function', indent=False, layout=Layout(width='100%'))"
      ]
     },
     "metadata": {},
     "output_type": "display_data"
    },
    {
     "data": {
      "application/vnd.jupyter.widget-view+json": {
       "model_id": "5b252c8194ad432eb48954b54fe4d35a",
       "version_major": 2,
       "version_minor": 0
      },
      "text/plain": [
       "VBox(children=(Dropdown(description='Function', layout=Layout(width='auto'), options=('__init__', 'fit', 'get_…"
      ]
     },
     "metadata": {},
     "output_type": "display_data"
    },
    {
     "data": {
      "application/vnd.jupyter.widget-view+json": {
       "model_id": "f3e1593abe044a7a9638db8eecf88f4c",
       "version_major": 2,
       "version_minor": 0
      },
      "text/plain": [
       "Checkbox(value=False, description='Custom predict function', indent=False, layout=Layout(width='100%'))"
      ]
     },
     "metadata": {},
     "output_type": "display_data"
    },
    {
     "data": {
      "application/vnd.jupyter.widget-view+json": {
       "model_id": "f4049fac07db4032aed2523f4c63d246",
       "version_major": 2,
       "version_minor": 0
      },
      "text/plain": [
       "VBox(children=(Dropdown(description='Function', layout=Layout(width='auto'), options=('__init__', 'fit', 'get_…"
      ]
     },
     "metadata": {},
     "output_type": "display_data"
    },
    {
     "data": {
      "application/vnd.jupyter.widget-view+json": {
       "model_id": "309c718026b24c4caf3bcd64fb421700",
       "version_major": 2,
       "version_minor": 0
      },
      "text/plain": [
       "Checkbox(value=True, description='base_estimator', indent=False, layout=Layout(width='100%'))"
      ]
     },
     "metadata": {},
     "output_type": "display_data"
    },
    {
     "data": {
      "application/vnd.jupyter.widget-view+json": {
       "model_id": "538e33e112d6419697fc75d3c8d731e5",
       "version_major": 2,
       "version_minor": 0
      },
      "text/plain": [
       "VBox(children=(Text(value='Base Estimator', description='Screen name', layout=Layout(width='auto'), style=Desc…"
      ]
     },
     "metadata": {},
     "output_type": "display_data"
    },
    {
     "data": {
      "application/vnd.jupyter.widget-view+json": {
       "model_id": "c8b3cb6307e246589a009378f3c66587",
       "version_major": 2,
       "version_minor": 0
      },
      "text/plain": [
       "Checkbox(value=True, description='n_estimators', indent=False, layout=Layout(width='100%'))"
      ]
     },
     "metadata": {},
     "output_type": "display_data"
    },
    {
     "data": {
      "application/vnd.jupyter.widget-view+json": {
       "model_id": "2491ce1faa614ba992319a7e6e45cdf5",
       "version_major": 2,
       "version_minor": 0
      },
      "text/plain": [
       "VBox(children=(Text(value='N Estimators', description='Screen name', layout=Layout(width='auto'), style=Descri…"
      ]
     },
     "metadata": {},
     "output_type": "display_data"
    },
    {
     "data": {
      "application/vnd.jupyter.widget-view+json": {
       "model_id": "4951ce9f5dfc4ff59c255621bd4053e4",
       "version_major": 2,
       "version_minor": 0
      },
      "text/plain": [
       "Checkbox(value=True, description='learning_rate', indent=False, layout=Layout(width='100%'))"
      ]
     },
     "metadata": {},
     "output_type": "display_data"
    },
    {
     "data": {
      "application/vnd.jupyter.widget-view+json": {
       "model_id": "f4ee2a4d14544a93a0db06fd1d7a2ec7",
       "version_major": 2,
       "version_minor": 0
      },
      "text/plain": [
       "VBox(children=(Text(value='Learning Rate', description='Screen name', layout=Layout(width='auto'), style=Descr…"
      ]
     },
     "metadata": {},
     "output_type": "display_data"
    },
    {
     "data": {
      "application/vnd.jupyter.widget-view+json": {
       "model_id": "da048db89a9e4ae5b4c0ff5661e0fb49",
       "version_major": 2,
       "version_minor": 0
      },
      "text/plain": [
       "Checkbox(value=True, description='loss', indent=False, layout=Layout(width='100%'))"
      ]
     },
     "metadata": {},
     "output_type": "display_data"
    },
    {
     "data": {
      "application/vnd.jupyter.widget-view+json": {
       "model_id": "c7eb36f34b0148d1824d7ba9462e9fc0",
       "version_major": 2,
       "version_minor": 0
      },
      "text/plain": [
       "VBox(children=(Text(value='Loss', description='Screen name', layout=Layout(width='auto'), style=DescriptionSty…"
      ]
     },
     "metadata": {},
     "output_type": "display_data"
    },
    {
     "data": {
      "application/vnd.jupyter.widget-view+json": {
       "model_id": "d68059246618463792a90d0af736c7f3",
       "version_major": 2,
       "version_minor": 0
      },
      "text/plain": [
       "Checkbox(value=True, description='random_state', indent=False, layout=Layout(width='100%'))"
      ]
     },
     "metadata": {},
     "output_type": "display_data"
    },
    {
     "data": {
      "application/vnd.jupyter.widget-view+json": {
       "model_id": "49d406d5826c4ac5b2858bd43213521e",
       "version_major": 2,
       "version_minor": 0
      },
      "text/plain": [
       "VBox(children=(Text(value='Random State', description='Screen name', layout=Layout(width='auto'), style=Descri…"
      ]
     },
     "metadata": {},
     "output_type": "display_data"
    }
   ],
   "source": [
    "module = AdaBoostRegressor\n",
    "\n",
    "parsed_docstring = parse_class(module)\n",
    "refined_function = ModelRefiner(parsed_docstring)\n",
    "refiner = refined_function.get_interactive_refiner()\n",
    "refiner.display()"
   ]
  },
  {
   "cell_type": "code",
   "execution_count": 6,
   "id": "excess-nepal",
   "metadata": {},
   "outputs": [],
   "source": [
    "refined_function.update(refiner)\n",
    "plugin_generator.write_refined_function(refined_function)"
   ]
  },
  {
   "cell_type": "code",
   "execution_count": null,
   "id": "compound-distribution",
   "metadata": {},
   "outputs": [],
   "source": [
    "plugin_generator.generate_zip()"
   ]
  }
 ],
 "metadata": {
  "kernelspec": {
   "display_name": "Python 3",
   "language": "python",
   "name": "python3"
  },
  "language_info": {
   "codemirror_mode": {
    "name": "ipython",
    "version": 3
   },
   "file_extension": ".py",
   "mimetype": "text/x-python",
   "name": "python",
   "nbconvert_exporter": "python",
   "pygments_lexer": "ipython3",
   "version": "3.6.12"
  }
 },
 "nbformat": 4,
 "nbformat_minor": 5
}
