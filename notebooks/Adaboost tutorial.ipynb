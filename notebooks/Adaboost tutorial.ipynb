{
 "cells": [
  {
   "cell_type": "markdown",
   "id": "median-military",
   "metadata": {},
   "source": [
    "If acme is not accessible, add parent to python path."
   ]
  },
  {
   "cell_type": "code",
   "execution_count": 1,
   "id": "allied-smoke",
   "metadata": {},
   "outputs": [],
   "source": [
    "import os, sys\n",
    "\n",
    "\n",
    "if os.path.exists('acme'):\n",
    "    sys.path.insert(0, '.')\n",
    "elif os.path.exists('../acme'):\n",
    "    sys.path.insert(0, '..')"
   ]
  },
  {
   "cell_type": "markdown",
   "id": "vanilla-resistance",
   "metadata": {},
   "source": [
    "# Adaboost tutorial\n",
    "\n",
    "Let us create a plugin containing Adaboost."
   ]
  },
  {
   "cell_type": "code",
   "execution_count": 2,
   "id": "useful-watch",
   "metadata": {},
   "outputs": [
    {
     "name": "stdout",
     "output_type": "stream",
     "text": [
      "[__init__] Doc argument missing in signature: base_estimator_\n",
      "[__init__] Doc argument missing in signature: estimators_\n",
      "[__init__] Doc argument missing in signature: classes_\n",
      "[__init__] Doc argument missing in signature: n_classes_\n",
      "[__init__] Doc argument missing in signature: estimator_weights_\n",
      "[__init__] Doc argument missing in signature: estimator_errors_\n",
      "[__init__] Doc argument missing in signature: feature_importances_\n",
      "[set_params] Doc argument missing in signature: **params\n",
      "[staged_predict_proba] Doc argument missing in signature: Yields\n",
      "[staged_predict_proba] Doc argument missing in signature: -------\n",
      "[staged_predict_proba] Doc argument missing in signature: p\n"
     ]
    },
    {
     "data": {
      "application/vnd.jupyter.widget-view+json": {
       "model_id": "d92905df4fb549b4a058c5afc957b6b2",
       "version_major": 2,
       "version_minor": 0
      },
      "text/plain": [
       "Checkbox(value=True, description='base_estimator', indent=False, layout=Layout(width='100%'))"
      ]
     },
     "metadata": {},
     "output_type": "display_data"
    },
    {
     "data": {
      "application/vnd.jupyter.widget-view+json": {
       "model_id": "493f2cee00fb4fe897e60f9f8a157b8d",
       "version_major": 2,
       "version_minor": 0
      },
      "text/plain": [
       "VBox(children=(Text(value='Base Estimator', description='Screen name', layout=Layout(width='auto'), style=Desc…"
      ]
     },
     "metadata": {},
     "output_type": "display_data"
    },
    {
     "data": {
      "application/vnd.jupyter.widget-view+json": {
       "model_id": "83f3cb91eb834ab587844b00f3bf8823",
       "version_major": 2,
       "version_minor": 0
      },
      "text/plain": [
       "Checkbox(value=True, description='n_estimators', indent=False, layout=Layout(width='100%'))"
      ]
     },
     "metadata": {},
     "output_type": "display_data"
    },
    {
     "data": {
      "application/vnd.jupyter.widget-view+json": {
       "model_id": "7072df6672c546dda944fa6d8185bdbb",
       "version_major": 2,
       "version_minor": 0
      },
      "text/plain": [
       "VBox(children=(Text(value='N Estimators', description='Screen name', layout=Layout(width='auto'), style=Descri…"
      ]
     },
     "metadata": {},
     "output_type": "display_data"
    },
    {
     "data": {
      "application/vnd.jupyter.widget-view+json": {
       "model_id": "46a7df0266da4dac9e9171866e866522",
       "version_major": 2,
       "version_minor": 0
      },
      "text/plain": [
       "Checkbox(value=True, description='learning_rate', indent=False, layout=Layout(width='100%'))"
      ]
     },
     "metadata": {},
     "output_type": "display_data"
    },
    {
     "data": {
      "application/vnd.jupyter.widget-view+json": {
       "model_id": "0e9aa401b0834bf8a614cc436d32a524",
       "version_major": 2,
       "version_minor": 0
      },
      "text/plain": [
       "VBox(children=(Text(value='Learning Rate', description='Screen name', layout=Layout(width='auto'), style=Descr…"
      ]
     },
     "metadata": {},
     "output_type": "display_data"
    },
    {
     "data": {
      "application/vnd.jupyter.widget-view+json": {
       "model_id": "08edd9dd8b9e4b289b4ab65ac6ed0c48",
       "version_major": 2,
       "version_minor": 0
      },
      "text/plain": [
       "Checkbox(value=True, description='algorithm', indent=False, layout=Layout(width='100%'))"
      ]
     },
     "metadata": {},
     "output_type": "display_data"
    },
    {
     "data": {
      "application/vnd.jupyter.widget-view+json": {
       "model_id": "02466d6577e14ef4be6c1cc5110fc930",
       "version_major": 2,
       "version_minor": 0
      },
      "text/plain": [
       "VBox(children=(Text(value='Algorithm', description='Screen name', layout=Layout(width='auto'), style=Descripti…"
      ]
     },
     "metadata": {},
     "output_type": "display_data"
    },
    {
     "data": {
      "application/vnd.jupyter.widget-view+json": {
       "model_id": "d8570f837162405ea31e3b33933e6632",
       "version_major": 2,
       "version_minor": 0
      },
      "text/plain": [
       "Checkbox(value=True, description='random_state', indent=False, layout=Layout(width='100%'))"
      ]
     },
     "metadata": {},
     "output_type": "display_data"
    },
    {
     "data": {
      "application/vnd.jupyter.widget-view+json": {
       "model_id": "c30ff6df08ca41369901ab930c903854",
       "version_major": 2,
       "version_minor": 0
      },
      "text/plain": [
       "VBox(children=(Text(value='Random State', description='Screen name', layout=Layout(width='auto'), style=Descri…"
      ]
     },
     "metadata": {},
     "output_type": "display_data"
    }
   ],
   "source": [
    "from acme.parser import parse_class\n",
    "from acme.refiner import ModelRefiner\n",
    "from acme.plugin_generator import PluginGenerator\n",
    "from sklearn.ensemble import AdaBoostClassifier\n",
    "\n",
    "\n",
    "import_name = \"sklearn.ensemble\"\n",
    "prediction_type = \"BINARY_CLASSIFICATION\"\n",
    "parsed_docstring = parse_class(AdaBoostClassifier)\n",
    "refined_function = ModelRefiner(parsed_docstring)\n",
    "refiner = refined_function.get_interactive_refiner()\n",
    "refiner.display()"
   ]
  },
  {
   "cell_type": "code",
   "execution_count": 3,
   "id": "waiting-eleven",
   "metadata": {},
   "outputs": [],
   "source": [
    "refined_function.update(refiner)"
   ]
  },
  {
   "cell_type": "code",
   "execution_count": 4,
   "id": "arctic-participation",
   "metadata": {},
   "outputs": [
    {
     "name": "stdout",
     "output_type": "stream",
     "text": [
      "{'name': 'base_estimator', 'description': 'The base estimator from which the boosted ensemble is built.\\nSupport for sample weighting is required, as well as proper\\n``classes_`` and ``n_classes_`` attributes. If ``None``, then\\nthe base estimator is :class:`~sklearn.tree.DecisionTreeClassifier`\\ninitialized with `max_depth=1`.', 'type': None, 'default_value': 'None', 'specs': 'None', 'selected': False, 'screen_name': 'Base Estimator'}\n",
      "{'name': 'n_estimators', 'description': 'The maximum number of estimators at which boosting is terminated.\\nIn case of perfect fit, the learning procedure is stopped early.', 'type': <DSSType.INT: 'INT'>, 'default_value': '50', 'specs': 'None', 'selected': True, 'screen_name': 'N Estimators'}\n",
      "{'name': 'learning_rate', 'description': 'Learning rate shrinks the contribution of each classifier by\\n``learning_rate``. There is a trade-off between ``learning_rate`` and\\n``n_estimators``.', 'type': <DSSType.DOUBLES: 'DOUBLES'>, 'default_value': '1.0', 'specs': 'None', 'selected': True, 'screen_name': 'Learning Rate'}\n",
      "{'name': 'algorithm', 'description': \"If 'SAMME.R' then use the SAMME.R real boosting algorithm.\\n``base_estimator`` must support calculation of class probabilities.\\nIf 'SAMME' then use the SAMME discrete boosting algorithm.\\nThe SAMME.R algorithm typically converges faster than SAMME,\\nachieving a lower test error with fewer boosting iterations.\", 'type': <DSSType.STRINGS: 'STRINGS'>, 'default_value': 'SAMME.R', 'specs': \"{'SAMME.R', 'SAMME'}\", 'selected': True, 'screen_name': 'Algorithm'}\n",
      "{'name': 'random_state', 'description': 'Controls the random seed given at each `base_estimator` at each\\nboosting iteration.\\nThus, it is only used when `base_estimator` exposes a `random_state`.\\nPass an int for reproducible output across multiple function calls.\\nSee :term:`Glossary <random_state>`.', 'type': <DSSType.INT: 'INT'>, 'default_value': 'None', 'specs': 'None', 'selected': False, 'screen_name': 'Random State'}\n"
     ]
    }
   ],
   "source": [
    "plugin_generator = PluginGenerator(\"sklearn.ensemble\", prediction_type, refined_function, template_path='../')\n",
    "plugin_generator.write()\n"
   ]
  },
  {
   "cell_type": "code",
   "execution_count": null,
   "id": "living-information",
   "metadata": {},
   "outputs": [],
   "source": []
  }
 ],
 "metadata": {
  "kernelspec": {
   "display_name": "Python 3",
   "language": "python",
   "name": "python3"
  },
  "language_info": {
   "codemirror_mode": {
    "name": "ipython",
    "version": 3
   },
   "file_extension": ".py",
   "mimetype": "text/x-python",
   "name": "python",
   "nbconvert_exporter": "python",
   "pygments_lexer": "ipython3",
   "version": "3.6.12"
  }
 },
 "nbformat": 4,
 "nbformat_minor": 5
}
