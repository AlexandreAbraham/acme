{
 "cells": [
  {
   "cell_type": "markdown",
   "id": "vanilla-resistance",
   "metadata": {},
   "source": [
    "# MondrianForestRegressor\n",
    "\n",
    "Let us create a plugin containing Adaboost."
   ]
  },
  {
   "cell_type": "code",
   "execution_count": 8,
   "id": "useful-watch",
   "metadata": {
    "scrolled": false
   },
   "outputs": [
    {
     "name": "stdout",
     "output_type": "stream",
     "text": [
      "Identified package name: skgarden. If invalid, please specify the real package name to retrieve the requirements.\n",
      "No requirement was retrieved\n"
     ]
    },
    {
     "data": {
      "application/vnd.jupyter.widget-view+json": {
       "model_id": "40fcbe09e3b0414eb31cea7fcaf21bf2",
       "version_major": 2,
       "version_minor": 0
      },
      "text/plain": [
       "Checkbox(value=False, description='Custom fit function', indent=False, layout=Layout(width='100%'))"
      ]
     },
     "metadata": {},
     "output_type": "display_data"
    },
    {
     "data": {
      "application/vnd.jupyter.widget-view+json": {
       "model_id": "49aed07f83d24c14ad01ead0fef67cc0",
       "version_major": 2,
       "version_minor": 0
      },
      "text/plain": [
       "VBox(children=(Dropdown(description='Function', layout=Layout(width='auto'), options=('__init__', 'apply', 'de…"
      ]
     },
     "metadata": {},
     "output_type": "display_data"
    },
    {
     "data": {
      "application/vnd.jupyter.widget-view+json": {
       "model_id": "404e400338b6449d8b28b4c8fa768066",
       "version_major": 2,
       "version_minor": 0
      },
      "text/plain": [
       "Checkbox(value=False, description='Custom predict function', indent=False, layout=Layout(width='100%'))"
      ]
     },
     "metadata": {},
     "output_type": "display_data"
    },
    {
     "data": {
      "application/vnd.jupyter.widget-view+json": {
       "model_id": "e00334bdc6084466981058a542370e74",
       "version_major": 2,
       "version_minor": 0
      },
      "text/plain": [
       "VBox(children=(Dropdown(description='Function', layout=Layout(width='auto'), options=('__init__', 'apply', 'de…"
      ]
     },
     "metadata": {},
     "output_type": "display_data"
    },
    {
     "data": {
      "application/vnd.jupyter.widget-view+json": {
       "model_id": "275a2a362db74a3d87c44a7690f2d5df",
       "version_major": 2,
       "version_minor": 0
      },
      "text/plain": [
       "Checkbox(value=True, description='n_estimators', indent=False, layout=Layout(width='100%'))"
      ]
     },
     "metadata": {},
     "output_type": "display_data"
    },
    {
     "data": {
      "application/vnd.jupyter.widget-view+json": {
       "model_id": "9dfb578253954fc8b4e132eece1a48d8",
       "version_major": 2,
       "version_minor": 0
      },
      "text/plain": [
       "VBox(children=(Text(value='N Estimators', description='Screen name', layout=Layout(width='auto'), style=Descri…"
      ]
     },
     "metadata": {},
     "output_type": "display_data"
    },
    {
     "data": {
      "application/vnd.jupyter.widget-view+json": {
       "model_id": "80c5d4deabd841a4acea3714219444ff",
       "version_major": 2,
       "version_minor": 0
      },
      "text/plain": [
       "Checkbox(value=True, description='criterion', indent=False, layout=Layout(width='100%'))"
      ]
     },
     "metadata": {},
     "output_type": "display_data"
    },
    {
     "data": {
      "application/vnd.jupyter.widget-view+json": {
       "model_id": "c9d5c91fc89541b298cb433624c9f9f5",
       "version_major": 2,
       "version_minor": 0
      },
      "text/plain": [
       "VBox(children=(Text(value='Criterion', description='Screen name', layout=Layout(width='auto'), style=Descripti…"
      ]
     },
     "metadata": {},
     "output_type": "display_data"
    },
    {
     "data": {
      "application/vnd.jupyter.widget-view+json": {
       "model_id": "9f37e0c98aa74157958ef35619bc9fc8",
       "version_major": 2,
       "version_minor": 0
      },
      "text/plain": [
       "Checkbox(value=True, description='max_depth', indent=False, layout=Layout(width='100%'))"
      ]
     },
     "metadata": {},
     "output_type": "display_data"
    },
    {
     "data": {
      "application/vnd.jupyter.widget-view+json": {
       "model_id": "ec81b9b2b35047838ba0dc2726a7036d",
       "version_major": 2,
       "version_minor": 0
      },
      "text/plain": [
       "VBox(children=(Text(value='Max Depth', description='Screen name', layout=Layout(width='auto'), style=Descripti…"
      ]
     },
     "metadata": {},
     "output_type": "display_data"
    },
    {
     "data": {
      "application/vnd.jupyter.widget-view+json": {
       "model_id": "5f22aebf1e0c45d3a242991bb014d589",
       "version_major": 2,
       "version_minor": 0
      },
      "text/plain": [
       "Checkbox(value=True, description='min_samples_split', indent=False, layout=Layout(width='100%'))"
      ]
     },
     "metadata": {},
     "output_type": "display_data"
    },
    {
     "data": {
      "application/vnd.jupyter.widget-view+json": {
       "model_id": "54d947069d5f4244a8de94af3da35ffc",
       "version_major": 2,
       "version_minor": 0
      },
      "text/plain": [
       "VBox(children=(Text(value='Min Samples Split', description='Screen name', layout=Layout(width='auto'), style=D…"
      ]
     },
     "metadata": {},
     "output_type": "display_data"
    },
    {
     "data": {
      "application/vnd.jupyter.widget-view+json": {
       "model_id": "8607756c567c4f71814995a293bf3e6f",
       "version_major": 2,
       "version_minor": 0
      },
      "text/plain": [
       "Checkbox(value=True, description='min_samples_leaf', indent=False, layout=Layout(width='100%'))"
      ]
     },
     "metadata": {},
     "output_type": "display_data"
    },
    {
     "data": {
      "application/vnd.jupyter.widget-view+json": {
       "model_id": "e670421afef44b6f91d363cb2135c13f",
       "version_major": 2,
       "version_minor": 0
      },
      "text/plain": [
       "VBox(children=(Text(value='Min Samples Leaf', description='Screen name', layout=Layout(width='auto'), style=De…"
      ]
     },
     "metadata": {},
     "output_type": "display_data"
    },
    {
     "data": {
      "application/vnd.jupyter.widget-view+json": {
       "model_id": "a7a39b642ead4776bd05a5c582d54446",
       "version_major": 2,
       "version_minor": 0
      },
      "text/plain": [
       "Checkbox(value=True, description='min_weight_fraction_leaf', indent=False, layout=Layout(width='100%'))"
      ]
     },
     "metadata": {},
     "output_type": "display_data"
    },
    {
     "data": {
      "application/vnd.jupyter.widget-view+json": {
       "model_id": "4501ed1839f84a18a5ffd80bb8b7d138",
       "version_major": 2,
       "version_minor": 0
      },
      "text/plain": [
       "VBox(children=(Text(value='Min Weight Fraction Leaf', description='Screen name', layout=Layout(width='auto'), …"
      ]
     },
     "metadata": {},
     "output_type": "display_data"
    },
    {
     "data": {
      "application/vnd.jupyter.widget-view+json": {
       "model_id": "58658fb1ac484f7588e2457bc26b9dfb",
       "version_major": 2,
       "version_minor": 0
      },
      "text/plain": [
       "Checkbox(value=True, description='max_features', indent=False, layout=Layout(width='100%'))"
      ]
     },
     "metadata": {},
     "output_type": "display_data"
    },
    {
     "data": {
      "application/vnd.jupyter.widget-view+json": {
       "model_id": "ba4fdc521cf54a86816670988b1707a6",
       "version_major": 2,
       "version_minor": 0
      },
      "text/plain": [
       "VBox(children=(Text(value='Max Features', description='Screen name', layout=Layout(width='auto'), style=Descri…"
      ]
     },
     "metadata": {},
     "output_type": "display_data"
    },
    {
     "data": {
      "application/vnd.jupyter.widget-view+json": {
       "model_id": "75a183a8984c4147910a394415068439",
       "version_major": 2,
       "version_minor": 0
      },
      "text/plain": [
       "Checkbox(value=True, description='max_leaf_nodes', indent=False, layout=Layout(width='100%'))"
      ]
     },
     "metadata": {},
     "output_type": "display_data"
    },
    {
     "data": {
      "application/vnd.jupyter.widget-view+json": {
       "model_id": "3e5648f370fe474d97260be80e68757e",
       "version_major": 2,
       "version_minor": 0
      },
      "text/plain": [
       "VBox(children=(Text(value='Max Leaf Nodes', description='Screen name', layout=Layout(width='auto'), style=Desc…"
      ]
     },
     "metadata": {},
     "output_type": "display_data"
    },
    {
     "data": {
      "application/vnd.jupyter.widget-view+json": {
       "model_id": "6b2804ffaff141eab609a7b74a8add23",
       "version_major": 2,
       "version_minor": 0
      },
      "text/plain": [
       "Checkbox(value=True, description='bootstrap', indent=False, layout=Layout(width='100%'))"
      ]
     },
     "metadata": {},
     "output_type": "display_data"
    },
    {
     "data": {
      "application/vnd.jupyter.widget-view+json": {
       "model_id": "ed4b5a8ec93c416fa5a933852a6ae9d3",
       "version_major": 2,
       "version_minor": 0
      },
      "text/plain": [
       "VBox(children=(Text(value='Bootstrap', description='Screen name', layout=Layout(width='auto'), style=Descripti…"
      ]
     },
     "metadata": {},
     "output_type": "display_data"
    },
    {
     "data": {
      "application/vnd.jupyter.widget-view+json": {
       "model_id": "8f70ca8710be470fb597989cb9e079a3",
       "version_major": 2,
       "version_minor": 0
      },
      "text/plain": [
       "Checkbox(value=True, description='oob_score', indent=False, layout=Layout(width='100%'))"
      ]
     },
     "metadata": {},
     "output_type": "display_data"
    },
    {
     "data": {
      "application/vnd.jupyter.widget-view+json": {
       "model_id": "8195b018d91f4d449d8ce5f1af07d04f",
       "version_major": 2,
       "version_minor": 0
      },
      "text/plain": [
       "VBox(children=(Text(value='Oob Score', description='Screen name', layout=Layout(width='auto'), style=Descripti…"
      ]
     },
     "metadata": {},
     "output_type": "display_data"
    },
    {
     "data": {
      "application/vnd.jupyter.widget-view+json": {
       "model_id": "b634ffc8f23943f88fc0ed272567b7f4",
       "version_major": 2,
       "version_minor": 0
      },
      "text/plain": [
       "Checkbox(value=True, description='n_jobs', indent=False, layout=Layout(width='100%'))"
      ]
     },
     "metadata": {},
     "output_type": "display_data"
    },
    {
     "data": {
      "application/vnd.jupyter.widget-view+json": {
       "model_id": "e11672e723064962ba96303984c535fb",
       "version_major": 2,
       "version_minor": 0
      },
      "text/plain": [
       "VBox(children=(Text(value='N Jobs', description='Screen name', layout=Layout(width='auto'), style=DescriptionS…"
      ]
     },
     "metadata": {},
     "output_type": "display_data"
    },
    {
     "data": {
      "application/vnd.jupyter.widget-view+json": {
       "model_id": "b1247544e0454521ad306a524b1f189d",
       "version_major": 2,
       "version_minor": 0
      },
      "text/plain": [
       "Checkbox(value=True, description='random_state', indent=False, layout=Layout(width='100%'))"
      ]
     },
     "metadata": {},
     "output_type": "display_data"
    },
    {
     "data": {
      "application/vnd.jupyter.widget-view+json": {
       "model_id": "509e46ca637048ef872b4114f1461c4d",
       "version_major": 2,
       "version_minor": 0
      },
      "text/plain": [
       "VBox(children=(Text(value='Random State', description='Screen name', layout=Layout(width='auto'), style=Descri…"
      ]
     },
     "metadata": {},
     "output_type": "display_data"
    },
    {
     "data": {
      "application/vnd.jupyter.widget-view+json": {
       "model_id": "15e608a13cdf4bee89b68d7c1975c59d",
       "version_major": 2,
       "version_minor": 0
      },
      "text/plain": [
       "Checkbox(value=True, description='verbose', indent=False, layout=Layout(width='100%'))"
      ]
     },
     "metadata": {},
     "output_type": "display_data"
    },
    {
     "data": {
      "application/vnd.jupyter.widget-view+json": {
       "model_id": "1c8ddd97a6fd41a09274b945c67b0052",
       "version_major": 2,
       "version_minor": 0
      },
      "text/plain": [
       "VBox(children=(Text(value='Verbose', description='Screen name', layout=Layout(width='auto'), style=Description…"
      ]
     },
     "metadata": {},
     "output_type": "display_data"
    },
    {
     "data": {
      "application/vnd.jupyter.widget-view+json": {
       "model_id": "109cc86df8574c1bb2567619856bd8ce",
       "version_major": 2,
       "version_minor": 0
      },
      "text/plain": [
       "Checkbox(value=True, description='warm_start', indent=False, layout=Layout(width='100%'))"
      ]
     },
     "metadata": {},
     "output_type": "display_data"
    },
    {
     "data": {
      "application/vnd.jupyter.widget-view+json": {
       "model_id": "1497f250903b4965bbf0bcb7a9fcf68e",
       "version_major": 2,
       "version_minor": 0
      },
      "text/plain": [
       "VBox(children=(Text(value='Warm Start', description='Screen name', layout=Layout(width='auto'), style=Descript…"
      ]
     },
     "metadata": {},
     "output_type": "display_data"
    }
   ],
   "source": [
    "from acme.parser import parse_class\n",
    "from acme.module_requirements import get_requirements\n",
    "from acme.refiner import ModelRefiner\n",
    "from acme.plugin_generator import PluginGenerator\n",
    "from sklearn.ensemble import AdaBoostClassifier\n",
    "from acme.constants import DSSPredType\n",
    "from skgarden import ExtraTreesQuantileRegressor\n",
    "\n",
    "prediction_type = DSSPredType.REGRESSION\n",
    "module = ExtraTreesQuantileRegressor\n",
    "\n",
    "parsed_docstring = parse_class(module)\n",
    "requirements = get_requirements(module)\n",
    "requirements.append('https://github.com/AlexandreAbraham/scikit-garden/archive/master.zip')\n",
    "refined_function = ModelRefiner(parsed_docstring)\n",
    "refiner = refined_function.get_interactive_refiner()\n",
    "refiner.display()"
   ]
  },
  {
   "cell_type": "code",
   "execution_count": 9,
   "id": "humanitarian-holder",
   "metadata": {},
   "outputs": [
    {
     "name": "stdout",
     "output_type": "stream",
     "text": [
      "[n_estimators] Specs not a set or a list\n",
      "[max_depth] Specs not a set or a list\n",
      "[min_samples_split] Specs not a set or a list\n",
      "[min_samples_leaf] Specs not a set or a list\n",
      "[min_weight_fraction_leaf] Specs not a set or a list\n",
      "[max_leaf_nodes] Specs not a set or a list\n",
      "[n_jobs] Specs not a set or a list\n",
      "[random_state] Specs not a set or a list\n",
      "[verbose] Specs not a set or a list\n",
      "[warm_start] Specs not a set or a list\n"
     ]
    }
   ],
   "source": [
    "refined_function.update(refiner)"
   ]
  },
  {
   "cell_type": "code",
   "execution_count": 10,
   "id": "excess-nepal",
   "metadata": {},
   "outputs": [],
   "source": [
    "plugin_generator = PluginGenerator(prediction_type, refined_function, generate_plugin_zip = True, requirements = requirements)\n",
    "plugin_generator.write()\n"
   ]
  },
  {
   "cell_type": "code",
   "execution_count": null,
   "id": "olympic-driving",
   "metadata": {},
   "outputs": [],
   "source": []
  }
 ],
 "metadata": {
  "kernelspec": {
   "display_name": "Python 3",
   "language": "python",
   "name": "python3"
  },
  "language_info": {
   "codemirror_mode": {
    "name": "ipython",
    "version": 3
   },
   "file_extension": ".py",
   "mimetype": "text/x-python",
   "name": "python",
   "nbconvert_exporter": "python",
   "pygments_lexer": "ipython3",
   "version": "3.6.12"
  }
 },
 "nbformat": 4,
 "nbformat_minor": 5
}
